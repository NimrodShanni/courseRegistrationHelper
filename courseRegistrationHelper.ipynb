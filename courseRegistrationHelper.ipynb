{
 "cells": [
  {
   "cell_type": "code",
   "execution_count": 12,
   "metadata": {},
   "outputs": [
    {
     "name": "stdout",
     "output_type": "stream",
     "text": [
      "[]\n",
      "0\n"
     ]
    }
   ],
   "source": [
    "course_list= [\"a\"]\n",
    "course_list.remove(\"a\")\n",
    "print(course_list)\n",
    "print(len(course_list))"
   ]
  },
  {
   "cell_type": "code",
   "execution_count": 34,
   "metadata": {},
   "outputs": [
    {
     "name": "stdout",
     "output_type": "stream",
     "text": [
      "aa\n",
      "bb\n"
     ]
    }
   ],
   "source": [
    "(course, group) = \"aa-bb-cc\".split(\"-\")\n",
    "print(course)\n",
    "print(group)"
   ]
  },
  {
   "cell_type": "code",
   "execution_count": 52,
   "metadata": {},
   "outputs": [
    {
     "name": "stdout",
     "output_type": "stream",
     "text": [
      "aa\n",
      "['aa', 'bb', 'cc']\n",
      "bb\n",
      "['dd']\n",
      "cc\n",
      "['dd']\n"
     ]
    }
   ],
   "source": [
    "hierarchy = \"aa>bb>cc\".split(\">\")\n",
    "for var in hierarchy:\n",
    "    print(var)\n",
    "    if(var==\"bb\"):\n",
    "        hierarchy=[\"dd\"]\n",
    "    print(hierarchy)"
   ]
  },
  {
   "cell_type": "code",
   "execution_count": 5,
   "metadata": {},
   "outputs": [
    {
     "name": "stdout",
     "output_type": "stream",
     "text": [
      "['aaa']\n"
     ]
    }
   ],
   "source": [
    "a=\"aaa\"\n",
    "print(a.split(\">\"))"
   ]
  }
 ],
 "metadata": {
  "kernelspec": {
   "display_name": "Python 3",
   "language": "python",
   "name": "python3"
  },
  "language_info": {
   "codemirror_mode": {
    "name": "ipython",
    "version": 3
   },
   "file_extension": ".py",
   "mimetype": "text/x-python",
   "name": "python",
   "nbconvert_exporter": "python",
   "pygments_lexer": "ipython3",
   "version": "3.10.10"
  },
  "orig_nbformat": 4,
  "vscode": {
   "interpreter": {
    "hash": "81de2691e2c4ddb77b4f400b63ae1aa1633afb71f4be5fea7cbe15b9b733de75"
   }
  }
 },
 "nbformat": 4,
 "nbformat_minor": 2
}
