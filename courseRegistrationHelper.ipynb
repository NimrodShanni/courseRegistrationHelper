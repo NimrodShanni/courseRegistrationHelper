{
 "cells": [
  {
   "cell_type": "code",
   "execution_count": 1,
   "metadata": {},
   "outputs": [],
   "source": [
    "from courseRegistrationHelper import *\n",
    "\n",
    "#login()\n",
    "\n",
    "#time.sleep(20)\n",
    "\n",
    "#driver.quit()"
   ]
  },
  {
   "cell_type": "code",
   "execution_count": null,
   "metadata": {},
   "outputs": [],
   "source": [
    "from courseRegistrationHelper import *\n",
    "\n",
    "def register(course_list:list, once:bool) -> None:\n",
    "    try:\n",
    "        while True:\n",
    "            for course in course_list:\n",
    "                course_elements = course.split(\"-\")\n",
    "                if is_group_available(course_elements[0], course_elements[1]):\n",
    "                    #checkout_cart()\n",
    "                    print(\"registered: \" + course)\n",
    "                    if once:\n",
    "                        raise KeyboardInterrupt\n",
    "                    else:\n",
    "                        course_list.remove(course)\n",
    "                        break\n",
    "                else:\n",
    "                    print(\"no room available: \" + course)\n",
    "    except KeyboardInterrupt:\n",
    "        pass\n",
    "\n",
    "\n",
    "#list = [\"234124-11\", \"234124-13\", \"234124-15\", \"394804-18\",\"394804-19\", \"324439-10\"]\n",
    "list = [\"234124-11\", \"234124-13\", \"394804-18\"]\n",
    "print(list)\n",
    "register(list, False)\n",
    "print(list)"
   ]
  },
  {
   "cell_type": "code",
   "execution_count": null,
   "metadata": {},
   "outputs": [],
   "source": [
    "from courseRegistrationHelper import *\n",
    "\n",
    "SPANS_XPATH = \"/html/body/div[2]/div[3]/div/div/section/div/div/div[3]/div/div[1]/div/span\"\n",
    "WebDriverWait(driver, TIMEOUT).until(EC.presence_of_element_located((By.XPATH, SPANS_XPATH)))\n",
    "groups = driver.find_elements(By.XPATH, SPANS_XPATH)\n",
    "if len(groups) == 0:\n",
    "    SPANS_XPATH = \"/html/body/div[2]/div[3]/div/div/section/div/div/div[2]/div/div[1]/div/span\"\n",
    "    groups = driver.find_elements(By.XPATH, SPANS_XPATH)\n",
    "\n",
    "openings = [None] * len(groups)\n",
    "for index, group in enumerate(groups):\n",
    "    if driver.find_element(By.XPATH, SPANS_XPATH + \"[\" + str(index+1) + \"]/div/table/tbody/tr/td[1]/table/tbody/tr[1]/td[2]/div[2]\").get_attribute(\"class\") == IS_AVAILABLE:\n",
    "        openings[index] = True\n",
    "    else:\n",
    "        openings[index] = False\n",
    "print(openings)\n",
    "print(openings.count(True))"
   ]
  }
 ],
 "metadata": {
  "kernelspec": {
   "display_name": "Python 3",
   "language": "python",
   "name": "python3"
  },
  "language_info": {
   "codemirror_mode": {
    "name": "ipython",
    "version": 3
   },
   "file_extension": ".py",
   "mimetype": "text/x-python",
   "name": "python",
   "nbconvert_exporter": "python",
   "pygments_lexer": "ipython3",
   "version": "3.10.10"
  },
  "orig_nbformat": 4,
  "vscode": {
   "interpreter": {
    "hash": "81de2691e2c4ddb77b4f400b63ae1aa1633afb71f4be5fea7cbe15b9b733de75"
   }
  }
 },
 "nbformat": 4,
 "nbformat_minor": 2
}
